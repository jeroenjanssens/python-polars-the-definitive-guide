{
 "cells": [
  {
   "cell_type": "markdown",
   "metadata": {},
   "source": [
    "# Chapter 17: Extending Polars"
   ]
  },
  {
   "cell_type": "code",
   "execution_count": null,
   "metadata": {},
   "outputs": [],
   "source": [
    "import polars as pl\n",
    "pl.__version__  # The book is built with Polars version 1.20.0"
   ]
  },
  {
   "cell_type": "markdown",
   "metadata": {},
   "source": [
    "## User-Defined Functions in Python"
   ]
  },
  {
   "cell_type": "markdown",
   "metadata": {},
   "source": [
    "### Applying a Function to Elements"
   ]
  },
  {
   "cell_type": "code",
   "execution_count": null,
   "metadata": {},
   "outputs": [],
   "source": [
    "from textblob import TextBlob\n",
    "\n",
    "\n",
    "def analyze_sentiment(review):\n",
    "    return TextBlob(review).sentiment.polarity\n",
    "\n",
    "\n",
    "reviews = pl.DataFrame(\n",
    "    {\n",
    "        \"reviews\": [\n",
    "            \"This product is great!\",\n",
    "            \"Terrible service.\",\n",
    "            \"Okay, but not what I expected.\",\n",
    "            \"Excellent! I love it.\",\n",
    "        ]\n",
    "    }\n",
    ")\n",
    "\n",
    "reviews.with_columns(\n",
    "    sentiment_score=pl.col(\"reviews\").map_elements(\n",
    "        analyze_sentiment, return_dtype=pl.Float64\n",
    "    )\n",
    ")"
   ]
  },
  {
   "cell_type": "code",
   "execution_count": null,
   "metadata": {},
   "outputs": [],
   "source": [
    "ints = pl.DataFrame({\"x\": [1, 2, 3, 4]})\n",
    "\n",
    "\n",
    "def add_one(x):\n",
    "    return x + 1\n",
    "\n",
    "\n",
    "ints.with_columns(\n",
    "    pl.col(\"x\")\n",
    "    .map_elements(\n",
    "        add_one,\n",
    "        return_dtype=pl.Int64,\n",
    "    )\n",
    "    .alias(\"x + 1\")\n",
    ")\n",
    "\n",
    "# Raises a PolarsInefficientMapWarning"
   ]
  },
  {
   "cell_type": "markdown",
   "metadata": {},
   "source": [
    "### Applying a Function to a Series"
   ]
  },
  {
   "cell_type": "code",
   "execution_count": null,
   "metadata": {},
   "outputs": [],
   "source": [
    "import polars.selectors as cs\n",
    "from scipy.special import softmax\n",
    "\n",
    "ml_dataset = pl.DataFrame(\n",
    "    {\n",
    "        \"feature1\": [0.3, 0.2, 0.4, 0.1, 0.2, 0.3, 0.5],\n",
    "        \"feature2\": [32, 50, 70, 65, 0, 10, 15],\n",
    "        \"label\": [1, 0, 1, 0, 1, 0, 0],\n",
    "    }\n",
    ")\n",
    "\n",
    "ml_dataset.select(\n",
    "    \"label\",\n",
    "    cs.starts_with(\"feature\").map_batches(\n",
    "        lambda x: softmax(x.to_numpy()),\n",
    "        return_dtype=pl.Float64,\n",
    "    ),\n",
    ")"
   ]
  },
  {
   "cell_type": "markdown",
   "metadata": {},
   "source": [
    "### Applying a Function to Groups"
   ]
  },
  {
   "cell_type": "code",
   "execution_count": null,
   "metadata": {},
   "outputs": [],
   "source": [
    "from sklearn.preprocessing import StandardScaler\n",
    "\n",
    "\n",
    "def scale_temperature(group):\n",
    "    scaler = StandardScaler()\n",
    "    scaled_values = scaler.fit_transform(group[[\"temperature\"]].to_numpy())\n",
    "    return group.with_columns(\n",
    "        pl.Series(values=scaled_values.flatten(), name=\"scaled_feature\")\n",
    "    )\n",
    "\n",
    "\n",
    "temperatures = pl.DataFrame(\n",
    "    {\n",
    "        \"country\": [\"USA\", \"USA\", \"USA\", \"USA\", \"NL\", \"NL\", \"NL\"],\n",
    "        \"temperature\": [32, 50, 70, 65, 0, 10, 15],\n",
    "    }\n",
    ")\n",
    "\n",
    "temperatures.group_by(\"country\").map_groups(scale_temperature)"
   ]
  },
  {
   "cell_type": "code",
   "execution_count": null,
   "metadata": {},
   "outputs": [],
   "source": [
    "temperatures = pl.DataFrame(\n",
    "    {\n",
    "        \"country\": [\"USA\", \"USA\", \"USA\", \"USA\", \"NL\", \"NL\", \"NL\"],\n",
    "        \"temperature\": [32, 50, 70, 65, 0, 10, 15],\n",
    "    }\n",
    ")\n",
    "\n",
    "for group, df in temperatures.group_by(\"country\"):\n",
    "    print(f\"{group[0]}:\\n{df}\\n\")"
   ]
  },
  {
   "cell_type": "code",
   "execution_count": null,
   "metadata": {},
   "outputs": [],
   "source": [
    "from functools import lru_cache\n",
    "\n",
    "from textblob import TextBlob\n",
    "\n",
    "\n",
    "@lru_cache(maxsize=256)\n",
    "def analyze_sentiment(review):\n",
    "    return TextBlob(review).sentiment.polarity\n",
    "\n",
    "\n",
    "reviews = pl.DataFrame(\n",
    "    {\n",
    "        \"reviews\": [\n",
    "            \"This product is great!\",\n",
    "            \"Terrible service.\",\n",
    "            \"Okay, but not what I expected.\",\n",
    "            \"Excellent! I love it.\",\n",
    "        ]\n",
    "    }\n",
    ")\n",
    "\n",
    "reviews.with_columns(\n",
    "    sentiment_score=pl.col(\"reviews\").map_elements(\n",
    "        analyze_sentiment, return_dtype=pl.Float64\n",
    "    )\n",
    ")"
   ]
  },
  {
   "cell_type": "markdown",
   "metadata": {},
   "source": [
    "### Applying a Function to an Expression"
   ]
  },
  {
   "cell_type": "code",
   "execution_count": null,
   "metadata": {},
   "outputs": [],
   "source": [
    "addresses = pl.DataFrame(\n",
    "    {\n",
    "        \"address\": [\n",
    "            \"Nieuwezijds Voorburgwal 147\",\n",
    "            \"Museumstraat 1\",\n",
    "            \"Oosterdok 2\",\n",
    "        ]\n",
    "    }\n",
    ")\n",
    "\n",
    "\n",
    "def extract_house_number(input_expr: pl.Expr) -> pl.Expr:\n",
    "    \"\"\"Extract the house number from an address String\"\"\"\n",
    "    return input_expr.str.extract(r\"\\d+\", 0).cast(pl.Int64)\n",
    "\n",
    "\n",
    "addresses.with_columns(\n",
    "    house_numbers=pl.col(\"address\").pipe(extract_house_number)\n",
    ")"
   ]
  },
  {
   "cell_type": "markdown",
   "metadata": {},
   "source": [
    "### Applying a Function to a DataFrame or LazyFrame"
   ]
  },
  {
   "cell_type": "code",
   "execution_count": null,
   "metadata": {},
   "outputs": [],
   "source": [
    "small_numbers = pl.DataFrame({\"ints\": [2, 4, 6], \"floats\": [10.0, 20.0, 30.0]})\n",
    "\n",
    "\n",
    "def scale_the_input(\n",
    "    df: pl.DataFrame | pl.LazyFrame, scale_factor: int\n",
    ") -> pl.DataFrame | pl.LazyFrame:\n",
    "    \"\"\"Scales the input by the input factor\"\"\"\n",
    "    return df * scale_factor\n",
    "\n",
    "\n",
    "small_numbers.pipe(scale_the_input, 5)"
   ]
  },
  {
   "cell_type": "markdown",
   "metadata": {},
   "source": [
    "## Registering Your Own Namespace"
   ]
  },
  {
   "cell_type": "code",
   "execution_count": null,
   "metadata": {},
   "outputs": [],
   "source": [
    "@pl.api.register_expr_namespace(\"celsius\")  \n",
    "class Celsius:\n",
    "    def __init__(self, expr: pl.Expr):  \n",
    "        self._expr = expr\n",
    "\n",
    "    def to_fahrenheit(self) -> pl.Expr:  \n",
    "        return (self._expr * 9 / 5) + 32\n",
    "\n",
    "    def to_kelvin(self) -> pl.Expr:\n",
    "        return self._expr + 273.15"
   ]
  },
  {
   "cell_type": "code",
   "execution_count": null,
   "metadata": {},
   "outputs": [],
   "source": [
    "temperatures = pl.DataFrame({\"celsius\": [0, 10, 20, 30, 40]})\n",
    "\n",
    "temperatures.with_columns(fahrenheit=pl.col(\"celsius\").celsius.to_fahrenheit())"
   ]
  },
  {
   "cell_type": "markdown",
   "metadata": {},
   "source": [
    "## Polars Plugins in Rust"
   ]
  },
  {
   "cell_type": "markdown",
   "metadata": {},
   "source": [
    "### Prerequisites"
   ]
  },
  {
   "cell_type": "code",
   "execution_count": null,
   "metadata": {},
   "outputs": [],
   "source": [
    "! rustc --version"
   ]
  },
  {
   "cell_type": "markdown",
   "metadata": {},
   "source": [
    "### The Anatomy of a Plugin Project"
   ]
  },
  {
   "cell_type": "markdown",
   "metadata": {},
   "source": [
    "### The Plugin"
   ]
  },
  {
   "cell_type": "markdown",
   "metadata": {},
   "source": [
    "### Compiling the Plugin"
   ]
  },
  {
   "cell_type": "code",
   "execution_count": null,
   "metadata": {},
   "outputs": [],
   "source": [
    "! cd plugins/hello_world_plugin && uv run maturin develop --release"
   ]
  },
  {
   "cell_type": "code",
   "execution_count": null,
   "metadata": {},
   "outputs": [],
   "source": [
    "# Reset the kernel to make the new plugin available\n",
    "\n",
    "# The code below will do this automatically when run in IPython\n",
    "get_ipython().kernel.do_shutdown(restart=True)"
   ]
  },
  {
   "cell_type": "markdown",
   "metadata": {},
   "source": [
    "### Performance Benchmark"
   ]
  },
  {
   "cell_type": "code",
   "execution_count": null,
   "metadata": {},
   "outputs": [],
   "source": [
    "import polars as pl\n",
    "from hello_world_func import hello_world  \n",
    "import time\n",
    "\n",
    "lots_of_strings = pl.DataFrame(\n",
    "    {\n",
    "        \"a\": [\"1\", \"2\", \"3\", \"4\"] * 100_000,\n",
    "    }\n",
    ")\n",
    "\n",
    "times = []\n",
    "for i in range(10):\n",
    "    t0 = time.time()\n",
    "    out = lots_of_strings.with_columns(\n",
    "        pl.col(\"a\").str.replace_all(r\".*\", \"Hello, world!\")\n",
    "    )\n",
    "    t1 = time.time()\n",
    "    times.append(t1 - t0)\n",
    "print(\n",
    "    f\"Polars native string replace:        {sum(times) / len(times):.5f}\"\n",
    ")  \n",
    "\n",
    "\n",
    "times = []\n",
    "for i in range(10):\n",
    "    t0 = time.time()\n",
    "    out = lots_of_strings.with_columns(hello_world(\"a\"))  \n",
    "    t1 = time.time()\n",
    "    times.append(t1 - t0)\n",
    "print(f\"Our custom made Hello world replace: {sum(times) / len(times):.5f}\")"
   ]
  },
  {
   "cell_type": "markdown",
   "metadata": {},
   "source": [
    "### Register Arguments"
   ]
  },
  {
   "cell_type": "markdown",
   "metadata": {},
   "source": [
    "#### Working with multiple arguments as input"
   ]
  },
  {
   "cell_type": "markdown",
   "metadata": {},
   "source": [
    "#### Other register arguments"
   ]
  },
  {
   "cell_type": "markdown",
   "metadata": {},
   "source": [
    "### Using a Rust Crate"
   ]
  },
  {
   "cell_type": "markdown",
   "metadata": {},
   "source": [
    "### Use Case: geo"
   ]
  },
  {
   "cell_type": "markdown",
   "metadata": {},
   "source": [
    "#### Adding the geo crate"
   ]
  },
  {
   "cell_type": "markdown",
   "metadata": {},
   "source": [
    "#### The Rust code"
   ]
  },
  {
   "cell_type": "code",
   "execution_count": null,
   "metadata": {},
   "outputs": [],
   "source": [
    "! cd plugins/polars_geo && uv run maturin develop --release"
   ]
  },
  {
   "cell_type": "code",
   "execution_count": null,
   "metadata": {},
   "outputs": [],
   "source": [
    "# Reset the kernel to make the new plugin available\n",
    "\n",
    "# The code below will do this automatically when run in IPython\n",
    "get_ipython().kernel.do_shutdown(restart=True)"
   ]
  },
  {
   "cell_type": "markdown",
   "metadata": {},
   "source": [
    "#### The Python code"
   ]
  },
  {
   "cell_type": "markdown",
   "metadata": {},
   "source": [
    "#### Making the custom namespace"
   ]
  },
  {
   "cell_type": "code",
   "execution_count": null,
   "metadata": {},
   "outputs": [],
   "source": [
    "import polars as pl\n",
    "points_and_polygons = pl.DataFrame(\n",
    "    {\n",
    "        \"point\": [[5.0, 5.0], [20.0, 20.0], [20.0, 20.0]],\n",
    "        \"polygon\": [\n",
    "            [[0.0, 0.0], [10.0, 0.0], [10.0, 10.0], [0.0, 10.0]],\n",
    "            [\n",
    "                [0.0, 0.0],\n",
    "                [10.0, 0.0],\n",
    "                [10.0, 10.0],\n",
    "            ],\n",
    "            [[0.0, None], [10.0, 0.0], [10.0, 10.0], [0.0, 10.0], [0.0, 0.0]],\n",
    "        ],\n",
    "    }\n",
    ")"
   ]
  },
  {
   "cell_type": "code",
   "execution_count": null,
   "metadata": {},
   "outputs": [],
   "source": [
    "from plugins.polars_geo import polars_geo\n",
    "\n",
    "# Apply the point_in_polygon function\n",
    "points_and_polygons.with_columns(\n",
    "    pl.col(\"point\").geo.point_in_polygon(pl.col(\"polygon\")).alias(\"in_polygon\")\n",
    ")"
   ]
  },
  {
   "cell_type": "markdown",
   "metadata": {},
   "source": [
    "## Takeaways"
   ]
  }
 ],
 "metadata": {},
 "nbformat": 4,
 "nbformat_minor": 5
}
