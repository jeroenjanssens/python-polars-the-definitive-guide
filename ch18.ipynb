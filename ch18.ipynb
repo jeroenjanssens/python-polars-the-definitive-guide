{
 "cells": [
  {
   "cell_type": "markdown",
   "metadata": {},
   "source": [
    "# Chapter 18: Polars Internals"
   ]
  },
  {
   "cell_type": "code",
   "execution_count": null,
   "metadata": {},
   "outputs": [],
   "source": [
    "import polars as pl\n",
    "pl.__version__  # The book is built with Polars version 1.20.0"
   ]
  },
  {
   "cell_type": "markdown",
   "metadata": {},
   "source": [
    "## Polars' Architecture"
   ]
  },
  {
   "cell_type": "markdown",
   "metadata": {},
   "source": [
    "## Arrow"
   ]
  },
  {
   "cell_type": "markdown",
   "metadata": {},
   "source": [
    "## Multithreaded Computations and SIMD Operations"
   ]
  },
  {
   "cell_type": "markdown",
   "metadata": {},
   "source": [
    "## The String Data Type in Memory"
   ]
  },
  {
   "cell_type": "markdown",
   "metadata": {},
   "source": [
    "## ChunkedArrays in Series"
   ]
  },
  {
   "cell_type": "markdown",
   "metadata": {},
   "source": [
    "## Query Optimization"
   ]
  },
  {
   "cell_type": "markdown",
   "metadata": {},
   "source": [
    "### LazyFrame Scan-Level Optimizations"
   ]
  },
  {
   "cell_type": "code",
   "execution_count": null,
   "metadata": {},
   "outputs": [],
   "source": [
    "taxis = pl.scan_parquet(\"data/taxi/yellow_tripdata_*.parquet\")  \n",
    "taxis.select(pl.col(\"trip_distance\")).show_graph()  "
   ]
  },
  {
   "cell_type": "code",
   "execution_count": null,
   "metadata": {},
   "outputs": [],
   "source": [
    "taxis.filter(pl.col(\"trip_distance\") > 10).show_graph()"
   ]
  },
  {
   "cell_type": "code",
   "execution_count": null,
   "metadata": {},
   "outputs": [],
   "source": [
    "taxis.head(2).collect()"
   ]
  },
  {
   "cell_type": "markdown",
   "metadata": {},
   "source": [
    "### Other Optimizations"
   ]
  },
  {
   "cell_type": "code",
   "execution_count": null,
   "metadata": {},
   "outputs": [],
   "source": [
    "values = pl.LazyFrame({\"value\": [10, 20, 30, 40, 50, 60]})\n",
    "\n",
    "common_subplan = values.with_columns(pl.col(\"value\") * 2)\n",
    "\n",
    "branch1 = common_subplan.select(value2=pl.col(\"value\") * 4)\n",
    "branch2 = common_subplan.select(value3=pl.col(\"value\") * 2)\n",
    "\n",
    "combined = pl.concat([branch1, branch2])\n",
    "\n",
    "combined.show_graph(optimized=False)"
   ]
  },
  {
   "cell_type": "code",
   "execution_count": null,
   "metadata": {},
   "outputs": [],
   "source": [
    "combined.show_graph()"
   ]
  },
  {
   "cell_type": "code",
   "execution_count": null,
   "metadata": {},
   "outputs": [],
   "source": [
    "bmi = pl.LazyFrame(\n",
    "    {\"weight_kg\": [70, 80, 60, 90], \"length_cm\": [175, 180, 160, 190]}\n",
    ")"
   ]
  },
  {
   "cell_type": "code",
   "execution_count": null,
   "metadata": {},
   "outputs": [],
   "source": [
    "bmi = (\n",
    "    bmi.with_columns(weight_per_cm=pl.col(\"weight_kg\") / pl.col(\"length_cm\"))\n",
    "    .with_columns(weight_kg_average=pl.lit(0))\n",
    "    .with_columns(length_m=pl.col(\"length_cm\") / 100)\n",
    "    .with_columns(weight_kg_average=pl.col(\"weight_kg\").mean())\n",
    ")"
   ]
  },
  {
   "cell_type": "code",
   "execution_count": null,
   "metadata": {},
   "outputs": [],
   "source": [
    "bmi = bmi.with_columns(\n",
    "    weight_per_cm=pl.col(\"weight_kg\") / pl.col(\"length_cm\"),\n",
    "    weight_kg_average=pl.col(\"weight_kg\").mean(),\n",
    "    length_m=pl.col(\"length_cm\") / 100,\n",
    ")"
   ]
  },
  {
   "cell_type": "markdown",
   "metadata": {},
   "source": [
    "## Checking Your Expressions"
   ]
  },
  {
   "cell_type": "markdown",
   "metadata": {},
   "source": [
    "### meta Namespace Overview"
   ]
  },
  {
   "cell_type": "markdown",
   "metadata": {},
   "source": [
    "### meta Namespace Examples"
   ]
  },
  {
   "cell_type": "code",
   "execution_count": null,
   "metadata": {},
   "outputs": [],
   "source": [
    "expr1 = pl.col(\"name\")\n",
    "expr2 = pl.lit(\"constant\")\n",
    "\n",
    "print(f\"Is {expr1} a column: {expr1.meta.is_column()}\")\n",
    "print(f\"Is {expr2} a column: {expr2.meta.is_column()}\")"
   ]
  },
  {
   "cell_type": "code",
   "execution_count": null,
   "metadata": {},
   "outputs": [],
   "source": [
    "print(f\"Is {expr1} a literal: {expr1.meta.is_literal()}\")\n",
    "print(f\"Is {expr2} a literal: {expr2.meta.is_literal()}\")"
   ]
  },
  {
   "cell_type": "code",
   "execution_count": null,
   "metadata": {},
   "outputs": [],
   "source": [
    "expr1 = pl.col(\"age\") * 2\n",
    "expr2 = pl.col(\"name\").alias(\"username\")\n",
    "\n",
    "# Get output names\n",
    "print(f\"{expr1} output name: {expr1.meta.output_name()}\")\n",
    "print(f\"{expr2} output name: {expr2.meta.output_name()}\")"
   ]
  },
  {
   "cell_type": "code",
   "execution_count": null,
   "metadata": {},
   "outputs": [],
   "source": [
    "expr = (pl.col(\"age\") * 2).alias(\"double_age\")\n",
    "\n",
    "expr.meta.show_graph()"
   ]
  },
  {
   "cell_type": "code",
   "execution_count": null,
   "metadata": {},
   "outputs": [],
   "source": [
    "expr = pl.col(\"original_name\").alias(\"new_name\")\n",
    "\n",
    "original_expr = expr.meta.undo_aliases()\n",
    "\n",
    "original_expr.meta.output_name()"
   ]
  },
  {
   "cell_type": "code",
   "execution_count": null,
   "metadata": {},
   "outputs": [],
   "source": [
    "expr = pl.col(\"origin\").alias(\"destination\")\n",
    "\n",
    "expr.meta.root_names()"
   ]
  },
  {
   "cell_type": "markdown",
   "metadata": {},
   "source": [
    "## Profiling Polars"
   ]
  },
  {
   "cell_type": "code",
   "execution_count": null,
   "metadata": {},
   "outputs": [],
   "source": [
    "long_distance_taxis_per_vendor_sorted = (\n",
    "    pl.scan_parquet(\"data/taxi/yellow_tripdata_*.parquet\")\n",
    "    .filter(pl.col(\"trip_distance\") > 10)\n",
    "    .select(pl.col(\"VendorID\"), pl.col(\"trip_distance\"), pl.col(\"total_amount\"))\n",
    "    .group_by(\"VendorID\")\n",
    "    .agg(\n",
    "        total_distance=pl.col(\"trip_distance\").sum(),\n",
    "        total_amount=pl.col(\"total_amount\").sum(),\n",
    "    )\n",
    "    .sort(\"total_distance\", descending=True)\n",
    ")\n",
    "\n",
    "long_distance_taxis_per_vendor_sorted.show_graph()"
   ]
  },
  {
   "cell_type": "code",
   "execution_count": null,
   "metadata": {},
   "outputs": [],
   "source": [
    "result, profiling_info = long_distance_taxis_per_vendor_sorted.profile()"
   ]
  },
  {
   "cell_type": "code",
   "execution_count": null,
   "metadata": {},
   "outputs": [],
   "source": [
    "result"
   ]
  },
  {
   "cell_type": "code",
   "execution_count": null,
   "metadata": {},
   "outputs": [],
   "source": [
    "profiling_info"
   ]
  },
  {
   "cell_type": "code",
   "execution_count": null,
   "metadata": {},
   "outputs": [],
   "source": [
    "long_distance_taxis_per_vendor_sorted.profile(show_plot=True, figsize=(15, 5))"
   ]
  },
  {
   "cell_type": "markdown",
   "metadata": {},
   "source": [
    "## Tests in Polars"
   ]
  },
  {
   "cell_type": "markdown",
   "metadata": {},
   "source": [
    "### Comparing DataFrames and Series"
   ]
  },
  {
   "cell_type": "code",
   "execution_count": null,
   "metadata": {},
   "outputs": [],
   "source": [
    "from polars.testing import (\n",
    "    assert_series_equal,\n",
    "    assert_frame_equal,\n",
    "    assert_series_not_equal,\n",
    "    assert_frame_not_equal,\n",
    ")"
   ]
  },
  {
   "cell_type": "code",
   "execution_count": null,
   "metadata": {},
   "outputs": [],
   "source": [
    "floats = pl.DataFrame({\"a\": [1.0, 2.0, 3.0, 4.0]})\n",
    "\n",
    "different_floats = pl.DataFrame({\"a\": [1.001, 2.0, 3.0, 4.0]})"
   ]
  },
  {
   "cell_type": "code",
   "execution_count": null,
   "metadata": {},
   "outputs": [],
   "source": [
    "# This raises an AssertionError:\n",
    "# assert_frame_equal(floats, different_floats)"
   ]
  },
  {
   "cell_type": "code",
   "execution_count": null,
   "metadata": {},
   "outputs": [],
   "source": [
    "assert_frame_equal(floats, different_floats, rel_tol=0.01)\n",
    "print(\"The DataFrames are equal.\")"
   ]
  },
  {
   "cell_type": "code",
   "execution_count": null,
   "metadata": {},
   "outputs": [],
   "source": [
    "result = pl.DataFrame({\"a\": [1, 3], \"b\": [2, 4]}).cast(\n",
    "    pl.Schema({\"a\": pl.Int8, \"b\": pl.Int8})\n",
    ")\n",
    "\n",
    "expected = pl.from_repr(\n",
    "    \"\"\"\n",
    "┌─────┬─────┐\n",
    "│ a   ┆ b   │\n",
    "│ --- ┆ --- │\n",
    "│ i8  ┆ i8  │\n",
    "╞═════╪═════╡\n",
    "│ 1   ┆ 2   │\n",
    "│ 3   ┆ 4   │\n",
    "└─────┴─────┘\n",
    "    \"\"\"\n",
    ")\n",
    "\n",
    "assert_frame_equal(result, expected)\n",
    "print(\"DataFrames are equal\")"
   ]
  },
  {
   "cell_type": "markdown",
   "metadata": {},
   "source": [
    "## Common Antipatterns"
   ]
  },
  {
   "cell_type": "markdown",
   "metadata": {},
   "source": [
    "### Using Brackets for Column Selection"
   ]
  },
  {
   "cell_type": "markdown",
   "metadata": {},
   "source": [
    "### Misusing Collect"
   ]
  },
  {
   "cell_type": "code",
   "execution_count": null,
   "metadata": {},
   "outputs": [],
   "source": [
    "%%time\n",
    "taxis = pl.scan_parquet(\"data/taxi/yellow_tripdata_*.parquet\")\n",
    "vendor0 = taxis.filter(pl.col(\"VendorID\") == 0).collect()\n",
    "vendor1 = taxis.filter(pl.col(\"VendorID\") == 1).collect()"
   ]
  },
  {
   "cell_type": "code",
   "execution_count": null,
   "metadata": {},
   "outputs": [],
   "source": [
    "%%time\n",
    "taxis = pl.scan_parquet(\"data/taxi/yellow_tripdata_*.parquet\")\n",
    "vendors = taxis.filter(pl.col(\"VendorID\").is_in([0, 1])).collect()\n",
    "vendor0 = vendors.filter(pl.col(\"VendorID\") == 0)\n",
    "vendor1 = vendors.filter(pl.col(\"VendorID\") == 1)"
   ]
  },
  {
   "cell_type": "markdown",
   "metadata": {},
   "source": [
    "### Using Python Code in your Polars Queries"
   ]
  },
  {
   "cell_type": "markdown",
   "metadata": {},
   "source": [
    "## Takeaways"
   ]
  }
 ],
 "metadata": {},
 "nbformat": 4,
 "nbformat_minor": 5
}
