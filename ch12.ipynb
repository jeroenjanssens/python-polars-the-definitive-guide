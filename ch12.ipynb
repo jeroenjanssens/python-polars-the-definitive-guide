{
 "cells": [
  {
   "cell_type": "markdown",
   "metadata": {},
   "source": [
    "# Chapter 12: Working with Textual, Temporal, and Nested Data Types"
   ]
  },
  {
   "cell_type": "code",
   "execution_count": null,
   "metadata": {},
   "outputs": [],
   "source": [
    "import polars as pl\n",
    "pl.__version__  # The book is built with Polars version 1.20.0"
   ]
  },
  {
   "cell_type": "markdown",
   "metadata": {},
   "source": [
    "## String"
   ]
  },
  {
   "cell_type": "markdown",
   "metadata": {},
   "source": [
    "### String Methods"
   ]
  },
  {
   "cell_type": "markdown",
   "metadata": {},
   "source": [
    "#### String methods for conversion"
   ]
  },
  {
   "cell_type": "markdown",
   "metadata": {},
   "source": [
    "#### String methods for describing and querying"
   ]
  },
  {
   "cell_type": "markdown",
   "metadata": {},
   "source": [
    "#### String methods for manipulation"
   ]
  },
  {
   "cell_type": "markdown",
   "metadata": {},
   "source": [
    "### String Examples"
   ]
  },
  {
   "cell_type": "code",
   "execution_count": null,
   "metadata": {},
   "outputs": [],
   "source": [
    "corpus = pl.DataFrame(\n",
    "    {\n",
    "        \"raw_text\": [\n",
    "            \"  Data Science is amazing \",\n",
    "            \"Data_analysis > Data entry\",\n",
    "            \" Python&Polars; Fast\",\n",
    "        ]\n",
    "    }\n",
    ")\n",
    "\n",
    "corpus"
   ]
  },
  {
   "cell_type": "code",
   "execution_count": null,
   "metadata": {},
   "outputs": [],
   "source": [
    "corpus = corpus.with_columns(\n",
    "    processed_text=pl.col(\"raw_text\")  \n",
    "    .str.strip_chars()  \n",
    "    .str.to_lowercase()  \n",
    "    .str.replace_all(\"_\", \" \")  \n",
    ")\n",
    "corpus"
   ]
  },
  {
   "cell_type": "code",
   "execution_count": null,
   "metadata": {},
   "outputs": [],
   "source": [
    "corpus.with_columns(\n",
    "    first_5_chars=pl.col(\"processed_text\").str.slice(0, 5),  \n",
    "    first_word=pl.col(\"processed_text\")\n",
    "    .str.split(\" \")  \n",
    "    .list.get(0),  \n",
    "    second_word=pl.col(\"processed_text\").str.split(\" \").list.get(1),  \n",
    ")"
   ]
  },
  {
   "cell_type": "code",
   "execution_count": null,
   "metadata": {},
   "outputs": [],
   "source": [
    "corpus.with_columns(\n",
    "    len_chars=pl.col(\"processed_text\").str.len_chars(),  \n",
    "    len_bytes=pl.col(\"processed_text\").str.len_bytes(),  \n",
    "    count_a=pl.col(\"processed_text\").str.count_matches(\"a\"),  \n",
    ")"
   ]
  },
  {
   "cell_type": "code",
   "execution_count": null,
   "metadata": {},
   "outputs": [],
   "source": [
    "posts = pl.DataFrame(\n",
    "    {\"post\": [\"Loving #python and #polars!\", \"A boomer post without a hashtag\"]}\n",
    ")\n",
    "\n",
    "hashtag_regex = r\"#(\\w+)\"  \n",
    "\n",
    "posts.with_columns(\n",
    "    hashtags=pl.col(\"post\").str.extract_all(hashtag_regex)  \n",
    ")"
   ]
  },
  {
   "cell_type": "markdown",
   "metadata": {},
   "source": [
    "## Categorical"
   ]
  },
  {
   "cell_type": "code",
   "execution_count": null,
   "metadata": {},
   "outputs": [],
   "source": [
    "cats = pl.DataFrame(\n",
    "    {\"name\": [\"Persian cat\", \"Siamese Cat\", \"Lynx\", \"Lynx\"]},\n",
    "    schema={\"name\": pl.Categorical},\n",
    ")\n",
    "\n",
    "cats.with_columns(name_physical=pl.col(\"name\").to_physical())"
   ]
  },
  {
   "cell_type": "markdown",
   "metadata": {},
   "source": [
    "### Categorical Methods"
   ]
  },
  {
   "cell_type": "markdown",
   "metadata": {},
   "source": [
    "### Categorical Examples"
   ]
  },
  {
   "cell_type": "code",
   "execution_count": null,
   "metadata": {},
   "outputs": [],
   "source": [
    "more_cats = pl.DataFrame(\n",
    "    {\"name\": [\"Maine Coon Cat\", \"Lynx\", \"Lynx\", \"Siamese Cat\"]},\n",
    "    schema={\"name\": pl.Categorical},\n",
    ")\n",
    "\n",
    "more_cats.with_columns(name_physical=pl.col(\"name\").to_physical())"
   ]
  },
  {
   "cell_type": "code",
   "execution_count": null,
   "metadata": {},
   "outputs": [],
   "source": [
    "cats.join(more_cats, on=\"name\")"
   ]
  },
  {
   "cell_type": "code",
   "execution_count": null,
   "metadata": {},
   "outputs": [],
   "source": [
    "with pl.StringCache():\n",
    "    left = pl.DataFrame(\n",
    "        {\n",
    "            \"categorical_column\": [\"value3\", \"value2\", \"value1\"],\n",
    "            \"other\": [\"a\", \"b\", \"c\"],\n",
    "        },\n",
    "        schema={\"categorical_column\": pl.Categorical, \"other\": pl.String},\n",
    "    )\n",
    "    right = pl.DataFrame(\n",
    "        {\n",
    "            \"categorical_column\": [\"value2\", \"value3\", \"value4\"],\n",
    "            \"other\": [\"d\", \"e\", \"f\"],\n",
    "        },\n",
    "        schema={\"categorical_column\": pl.Categorical, \"other\": pl.String},\n",
    "    )"
   ]
  },
  {
   "cell_type": "code",
   "execution_count": null,
   "metadata": {},
   "outputs": [],
   "source": [
    "left.join(right, on=\"categorical_column\")"
   ]
  },
  {
   "cell_type": "code",
   "execution_count": null,
   "metadata": {},
   "outputs": [],
   "source": [
    "pl.enable_string_cache()"
   ]
  },
  {
   "cell_type": "code",
   "execution_count": null,
   "metadata": {},
   "outputs": [],
   "source": [
    "right.select(pl.col(\"categorical_column\").cat.get_categories())"
   ]
  },
  {
   "cell_type": "code",
   "execution_count": null,
   "metadata": {},
   "outputs": [],
   "source": [
    "sorting_comparison_df = cats.select(cat_lexical=pl.col(\"name\")).with_columns(\n",
    "    cat_physical=pl.col(\"cat_lexical\").to_physical()\n",
    ")\n",
    "\n",
    "sorting_comparison_df"
   ]
  },
  {
   "cell_type": "code",
   "execution_count": null,
   "metadata": {},
   "outputs": [],
   "source": [
    "# sorting_comparison_df.with_columns(\n",
    "#     pl.col(\"cat_lexical\").cast(pl.Categorical(\"physical\"))\n",
    "# ).sort(by=\"cat_lexical\")\n",
    "\n",
    "# A Categorical with physical ordering has been deprecated in the meanwhile. Sorting is now always lexical."
   ]
  },
  {
   "cell_type": "code",
   "execution_count": null,
   "metadata": {},
   "outputs": [],
   "source": [
    "sorting_comparison_df.with_columns(\n",
    "    pl.col(\"cat_lexical\").cast(pl.Categorical(\"lexical\"))\n",
    ").sort(by=\"cat_lexical\")"
   ]
  },
  {
   "cell_type": "markdown",
   "metadata": {},
   "source": [
    "## Enum"
   ]
  },
  {
   "cell_type": "code",
   "execution_count": null,
   "metadata": {},
   "outputs": [],
   "source": [
    "bear_enum_dtype = pl.Enum([\"Polar\", \"Panda\", \"Brown\"])\n",
    "\n",
    "bear_enum_series = pl.Series(\n",
    "    [\"Polar\", \"Panda\", \"Brown\", \"Brown\", \"Polar\"], dtype=bear_enum_dtype\n",
    ")\n",
    "\n",
    "bear_cat_series = pl.Series(\n",
    "    [\"Polar\", \"Panda\", \"Brown\", \"Brown\", \"Polar\"], dtype=pl.Categorical\n",
    ")"
   ]
  },
  {
   "cell_type": "markdown",
   "metadata": {},
   "source": [
    "## Temporal"
   ]
  },
  {
   "cell_type": "markdown",
   "metadata": {},
   "source": [
    "### Temporal Methods"
   ]
  },
  {
   "cell_type": "markdown",
   "metadata": {},
   "source": [
    "#### Temporal methods for conversion"
   ]
  },
  {
   "cell_type": "markdown",
   "metadata": {},
   "source": [
    "#### Temporal methods for describing and querying"
   ]
  },
  {
   "cell_type": "markdown",
   "metadata": {},
   "source": [
    "#### Temporal methods for manipulation"
   ]
  },
  {
   "cell_type": "markdown",
   "metadata": {},
   "source": [
    "### Temporal Examples"
   ]
  },
  {
   "cell_type": "markdown",
   "metadata": {},
   "source": [
    "#### Loading from a CSV file"
   ]
  },
  {
   "cell_type": "code",
   "execution_count": null,
   "metadata": {},
   "outputs": [],
   "source": [
    "pl.read_csv(\"data/all_stocks.csv\", try_parse_dates=True)"
   ]
  },
  {
   "cell_type": "markdown",
   "metadata": {},
   "source": [
    "#### Converting to and from a String"
   ]
  },
  {
   "cell_type": "code",
   "execution_count": null,
   "metadata": {},
   "outputs": [],
   "source": [
    "dates = pl.DataFrame({\"date_str\": [\"2023-12-31\", \"2024-02-29\"]}).with_columns(\n",
    "    date=pl.col(\"date_str\").str.to_date(\"%Y-%m-%d\")\n",
    ")\n",
    "\n",
    "dates"
   ]
  },
  {
   "cell_type": "code",
   "execution_count": null,
   "metadata": {},
   "outputs": [],
   "source": [
    "dates.with_columns(formatted_date=pl.col(\"date\").dt.to_string(\"%d-%m-%Y\"))"
   ]
  },
  {
   "cell_type": "markdown",
   "metadata": {},
   "source": [
    "#### Generating date ranges"
   ]
  },
  {
   "cell_type": "code",
   "execution_count": null,
   "metadata": {},
   "outputs": [],
   "source": [
    "pl.DataFrame(\n",
    "    {\n",
    "        \"monday\": pl.date_range(\n",
    "            start=pl.date(2024, 10, 28),\n",
    "            end=pl.date(2024, 12, 1),\n",
    "            interval=\"1w\",  \n",
    "            eager=True,  \n",
    "        ),\n",
    "    }\n",
    ")"
   ]
  },
  {
   "cell_type": "markdown",
   "metadata": {},
   "source": [
    "#### Time zones"
   ]
  },
  {
   "cell_type": "code",
   "execution_count": null,
   "metadata": {},
   "outputs": [],
   "source": [
    "pl.DataFrame(  \n",
    "    {\n",
    "        \"utc_mixed_offset\": [\n",
    "            \"2021-03-27T00:00:00+0100\",\n",
    "            \"2021-03-28T00:00:00+0100\",\n",
    "            \"2021-03-29T00:00:00+0200\",\n",
    "            \"2021-03-30T00:00:00+0200\",\n",
    "        ]\n",
    "    }\n",
    ").with_columns(\n",
    "    parsed=pl.col(\"utc_mixed_offset\").str.to_datetime(\n",
    "        \"%Y-%m-%dT%H:%M:%S%z\"\n",
    "    )  \n",
    ").with_columns(\n",
    "    converted=pl.col(\"parsed\").dt.convert_time_zone(\"Europe/Amsterdam\")  \n",
    ")"
   ]
  },
  {
   "cell_type": "markdown",
   "metadata": {},
   "source": [
    "## List"
   ]
  },
  {
   "cell_type": "markdown",
   "metadata": {},
   "source": [
    "### List Methods"
   ]
  },
  {
   "cell_type": "markdown",
   "metadata": {},
   "source": [
    "### List Examples"
   ]
  },
  {
   "cell_type": "code",
   "execution_count": null,
   "metadata": {},
   "outputs": [],
   "source": [
    "bools = pl.DataFrame({\"values\": [[True, True], [False, False, True], [False]]})\n",
    "\n",
    "bools.with_columns(\n",
    "    all_true=pl.col(\"values\").list.all(),\n",
    "    any_true=pl.col(\"values\").list.any(),\n",
    ")"
   ]
  },
  {
   "cell_type": "code",
   "execution_count": null,
   "metadata": {},
   "outputs": [],
   "source": [
    "groups = pl.DataFrame({\"ages\": [[18, 21], [30, 40, 50], [42, 69]]})\n",
    "\n",
    "groups.with_columns(\n",
    "    over_forty=pl.col(\"ages\").list.eval(\n",
    "        pl.element() > 40,  \n",
    "        parallel=True,  \n",
    "    )\n",
    ").with_columns(  \n",
    "    all_over_forty=pl.col(\"over_forty\").list.all()  \n",
    ")"
   ]
  },
  {
   "cell_type": "code",
   "execution_count": null,
   "metadata": {},
   "outputs": [],
   "source": [
    "groups.with_columns(\n",
    "    ages_sorted_descending=pl.col(\"ages\").list.sort(descending=True)\n",
    ")"
   ]
  },
  {
   "cell_type": "code",
   "execution_count": null,
   "metadata": {},
   "outputs": [],
   "source": [
    "groups.explode(\"ages\")"
   ]
  },
  {
   "cell_type": "code",
   "execution_count": null,
   "metadata": {},
   "outputs": [],
   "source": [
    "groups.select(ages=pl.col(\"ages\").list.explode())"
   ]
  },
  {
   "cell_type": "markdown",
   "metadata": {},
   "source": [
    "## Array"
   ]
  },
  {
   "cell_type": "markdown",
   "metadata": {},
   "source": [
    "### Array Methods"
   ]
  },
  {
   "cell_type": "markdown",
   "metadata": {},
   "source": [
    "### Array Examples"
   ]
  },
  {
   "cell_type": "code",
   "execution_count": null,
   "metadata": {},
   "outputs": [],
   "source": [
    "events = pl.DataFrame(\n",
    "    [\n",
    "        pl.Series(\n",
    "            \"location\", [\"Paris\", \"Amsterdam\", \"Barcelona\"], dtype=pl.String\n",
    "        ),\n",
    "        pl.Series(\n",
    "            \"temperatures\",\n",
    "            [\n",
    "                [23, 27, 21, 22, 24, 23, 22],\n",
    "                [17, 19, 15, 22, 18, 20, 21],\n",
    "                [30, 32, 28, 29, 34, 33, 31],\n",
    "            ],\n",
    "            dtype=pl.Array(pl.Int64, shape=7),\n",
    "        ),\n",
    "    ]\n",
    ")\n",
    "\n",
    "events"
   ]
  },
  {
   "cell_type": "code",
   "execution_count": null,
   "metadata": {},
   "outputs": [],
   "source": [
    "events.with_columns(\n",
    "    median=pl.col(\"temperatures\").arr.median(),\n",
    "    max=pl.col(\"temperatures\").arr.max(),\n",
    "    warmest_dow=pl.col(\"temperatures\").arr.arg_max(),\n",
    ")"
   ]
  },
  {
   "cell_type": "markdown",
   "metadata": {},
   "source": [
    "## Struct"
   ]
  },
  {
   "cell_type": "markdown",
   "metadata": {},
   "source": [
    "### Struct Methods"
   ]
  },
  {
   "cell_type": "markdown",
   "metadata": {},
   "source": [
    "### Struct Examples"
   ]
  },
  {
   "cell_type": "code",
   "execution_count": null,
   "metadata": {},
   "outputs": [],
   "source": [
    "from datetime import date\n",
    "\n",
    "orders = pl.DataFrame(\n",
    "    {\n",
    "        \"customer_id\": [2781, 6139, 5392],\n",
    "        \"order_details\": [\n",
    "            {\"amount\": 250.00, \"date\": date(2024, 1, 3), \"items\": 5},\n",
    "            {\"amount\": 150.00, \"date\": date(2024, 1, 5), \"items\": 1},\n",
    "            {\"amount\": 100.00, \"date\": date(2024, 1, 2), \"items\": 3},\n",
    "        ],\n",
    "    },\n",
    ")\n",
    "\n",
    "orders"
   ]
  },
  {
   "cell_type": "code",
   "execution_count": null,
   "metadata": {},
   "outputs": [],
   "source": [
    "orders.select(pl.col(\"order_details\").struct.field(\"amount\"))"
   ]
  },
  {
   "cell_type": "code",
   "execution_count": null,
   "metadata": {},
   "outputs": [],
   "source": [
    "order_details_df = orders.unnest(\"order_details\")\n",
    "\n",
    "order_details_df"
   ]
  },
  {
   "cell_type": "code",
   "execution_count": null,
   "metadata": {},
   "outputs": [],
   "source": [
    "order_details_df.select(\n",
    "    \"amount\",\n",
    "    \"date\",\n",
    "    \"items\",\n",
    "    order_details=pl.struct(pl.col(\"amount\"), pl.col(\"date\"), pl.col(\"items\")),\n",
    ")"
   ]
  },
  {
   "cell_type": "code",
   "execution_count": null,
   "metadata": {},
   "outputs": [],
   "source": [
    "basket = pl.DataFrame(\n",
    "    {\n",
    "        \"fruit\": [\"cherry\", \"apple\", \"banana\", \"banana\", \"apple\", \"banana\"],\n",
    "    }\n",
    ")\n",
    "\n",
    "basket"
   ]
  },
  {
   "cell_type": "code",
   "execution_count": null,
   "metadata": {},
   "outputs": [],
   "source": [
    "basket.select(pl.col(\"fruit\").value_counts(sort=True))"
   ]
  },
  {
   "cell_type": "code",
   "execution_count": null,
   "metadata": {},
   "outputs": [],
   "source": [
    "basket.select(pl.col(\"fruit\").value_counts(sort=True).struct.unnest())"
   ]
  },
  {
   "cell_type": "markdown",
   "metadata": {},
   "source": [
    "## Takeaways"
   ]
  }
 ],
 "metadata": {},
 "nbformat": 4,
 "nbformat_minor": 5
}
