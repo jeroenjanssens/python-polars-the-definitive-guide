{
 "cells": [
  {
   "cell_type": "markdown",
   "metadata": {},
   "source": [
    "# Chapter 6: Reading and Writing Data"
   ]
  },
  {
   "cell_type": "code",
   "execution_count": null,
   "metadata": {},
   "outputs": [],
   "source": [
    "import polars as pl\n",
    "pl.__version__  # The book is built with Polars version 1.20.0"
   ]
  },
  {
   "cell_type": "markdown",
   "metadata": {},
   "source": [
    "## Format Overview"
   ]
  },
  {
   "cell_type": "markdown",
   "metadata": {},
   "source": [
    "## Reading CSV Files"
   ]
  },
  {
   "cell_type": "code",
   "execution_count": null,
   "metadata": {},
   "outputs": [],
   "source": [
    "! cat data/penguins.csv"
   ]
  },
  {
   "cell_type": "code",
   "execution_count": null,
   "metadata": {},
   "outputs": [],
   "source": [
    "penguins = pl.read_csv(\"data/penguins.csv\")\n",
    "penguins"
   ]
  },
  {
   "cell_type": "markdown",
   "metadata": {},
   "source": [
    "## Parsing Missing Values Correctly"
   ]
  },
  {
   "cell_type": "code",
   "execution_count": null,
   "metadata": {},
   "outputs": [],
   "source": [
    "penguins = pl.read_csv(\"data/penguins.csv\", null_values=\"NA\")\n",
    "penguins"
   ]
  },
  {
   "cell_type": "code",
   "execution_count": null,
   "metadata": {},
   "outputs": [],
   "source": [
    "penguins.null_count().transpose(  \n",
    "    include_header=True, column_names=[\"null_count\"]\n",
    ")"
   ]
  },
  {
   "cell_type": "markdown",
   "metadata": {},
   "source": [
    "## Reading Files with Encodings Other Than UTF-8"
   ]
  },
  {
   "cell_type": "code",
   "execution_count": null,
   "metadata": {},
   "outputs": [],
   "source": [
    "# This raises a ComputeError:\n",
    "# pl.read_csv(\"data/directors.csv\")"
   ]
  },
  {
   "cell_type": "code",
   "execution_count": null,
   "metadata": {},
   "outputs": [],
   "source": [
    "pl.read_csv(\"data/directors.csv\", encoding=\"EUC-CN\")"
   ]
  },
  {
   "cell_type": "code",
   "execution_count": null,
   "metadata": {},
   "outputs": [],
   "source": [
    "import chardet\n",
    "\n",
    "\n",
    "def detect_encoding(filename: str) -> str:\n",
    "    \"\"\"Return the most probable character encoding for a file.\"\"\"\n",
    "\n",
    "    with open(filename, \"rb\") as f:\n",
    "        raw_data = f.read()\n",
    "        result = chardet.detect(raw_data)\n",
    "        return result[\"encoding\"]\n",
    "\n",
    "\n",
    "detect_encoding(\"data/directors.csv\")"
   ]
  },
  {
   "cell_type": "code",
   "execution_count": null,
   "metadata": {},
   "outputs": [],
   "source": [
    "pl.read_csv(\"data/directors.csv\", encoding=\"EUC-JP\")"
   ]
  },
  {
   "cell_type": "markdown",
   "metadata": {},
   "source": [
    "## Reading Excel Spreadsheets"
   ]
  },
  {
   "cell_type": "code",
   "execution_count": null,
   "metadata": {},
   "outputs": [],
   "source": [
    "songs = pl.read_excel(\"data/top2000-2023.xlsx\")  \n",
    "songs"
   ]
  },
  {
   "cell_type": "markdown",
   "metadata": {},
   "source": [
    "## Working with Multiple Files"
   ]
  },
  {
   "cell_type": "code",
   "execution_count": null,
   "metadata": {},
   "outputs": [],
   "source": [
    "pl.read_csv(\"data/stock/nvda/201?.csv\")"
   ]
  },
  {
   "cell_type": "code",
   "execution_count": null,
   "metadata": {},
   "outputs": [],
   "source": [
    "all_stocks = pl.read_csv(\"data/stock/**/*.csv\")\n",
    "all_stocks"
   ]
  },
  {
   "cell_type": "code",
   "execution_count": null,
   "metadata": {},
   "outputs": [],
   "source": [
    "import calendar\n",
    "\n",
    "filenames = [\n",
    "    f\"data/stock/asml/{year}.csv\"\n",
    "    for year in range(1999, 2024)\n",
    "    if calendar.isleap(year)\n",
    "]\n",
    "\n",
    "filenames"
   ]
  },
  {
   "cell_type": "code",
   "execution_count": null,
   "metadata": {},
   "outputs": [],
   "source": [
    "pl.concat(pl.read_csv(f) for f in filenames)"
   ]
  },
  {
   "cell_type": "markdown",
   "metadata": {},
   "source": [
    "## Reading Parquet"
   ]
  },
  {
   "cell_type": "code",
   "execution_count": null,
   "metadata": {},
   "outputs": [],
   "source": [
    "%%time\n",
    "trips = pl.read_parquet(\"data/taxi/yellow_tripdata_*.parquet\")\n",
    "trips"
   ]
  },
  {
   "cell_type": "markdown",
   "metadata": {},
   "source": [
    "## Reading JSON and NDJSON"
   ]
  },
  {
   "cell_type": "markdown",
   "metadata": {},
   "source": [
    "### JSON"
   ]
  },
  {
   "cell_type": "code",
   "execution_count": null,
   "metadata": {},
   "outputs": [],
   "source": [
    "! cat data/pokedex.json"
   ]
  },
  {
   "cell_type": "code",
   "execution_count": null,
   "metadata": {},
   "outputs": [],
   "source": [
    "pokedex = pl.read_json(\"data/pokedex.json\")\n",
    "pokedex"
   ]
  },
  {
   "cell_type": "code",
   "execution_count": null,
   "metadata": {},
   "outputs": [],
   "source": [
    "(\n",
    "    pokedex.explode(\"pokemon\")\n",
    "    .unnest(\"pokemon\")\n",
    "    .select(\"id\", \"name\", \"type\", \"height\", \"weight\")\n",
    ")"
   ]
  },
  {
   "cell_type": "markdown",
   "metadata": {},
   "source": [
    "### NDJSON"
   ]
  },
  {
   "cell_type": "code",
   "execution_count": null,
   "metadata": {},
   "outputs": [],
   "source": [
    "! cat data/wikimedia.ndjson"
   ]
  },
  {
   "cell_type": "code",
   "execution_count": null,
   "metadata": {},
   "outputs": [],
   "source": [
    "from json import loads\n",
    "from pprint import pprint\n",
    "\n",
    "with open(\"data/wikimedia.ndjson\") as f:\n",
    "    pprint(loads(f.readline()))"
   ]
  },
  {
   "cell_type": "code",
   "execution_count": null,
   "metadata": {},
   "outputs": [],
   "source": [
    "wikimedia = pl.read_ndjson(\"data/wikimedia.ndjson\")\n",
    "wikimedia"
   ]
  },
  {
   "cell_type": "code",
   "execution_count": null,
   "metadata": {},
   "outputs": [],
   "source": [
    "(\n",
    "    wikimedia.rename({\"id\": \"edit_id\"})\n",
    "    .unnest(\"meta\")\n",
    "    .select(\"timestamp\", \"title\", \"user\", \"comment\")\n",
    ")"
   ]
  },
  {
   "cell_type": "markdown",
   "metadata": {},
   "source": [
    "## Other File Formats"
   ]
  },
  {
   "cell_type": "code",
   "execution_count": null,
   "metadata": {},
   "outputs": [],
   "source": [
    "import pandas as pd\n",
    "\n",
    "url = \"https://en.wikipedia.org/wiki/List_of_Latin_abbreviations\"\n",
    "pl.from_pandas(pd.read_html(url, storage_options={\"User-Agent\": \"Mozilla/5.0\"})[0])"
   ]
  },
  {
   "cell_type": "markdown",
   "metadata": {},
   "source": [
    "## Querying Databases"
   ]
  },
  {
   "cell_type": "code",
   "execution_count": null,
   "metadata": {},
   "outputs": [],
   "source": [
    "pl.read_database_uri(\n",
    "    query=\"\"\"\n",
    "    SELECT\n",
    "        f.film_id,\n",
    "        f.title,\n",
    "        c.name AS category,\n",
    "        f.rating,\n",
    "        f.length / 60.0 AS length\n",
    "    FROM\n",
    "        film AS f,\n",
    "        film_category AS fc,\n",
    "        category AS c\n",
    "    WHERE\n",
    "        fc.film_id = f.film_id\n",
    "        AND fc.category_id = c.category_id\n",
    "    LIMIT 10\n",
    "    \"\"\",\n",
    "    uri=\"sqlite:::data/sakila.db\",\n",
    ")"
   ]
  },
  {
   "cell_type": "code",
   "execution_count": null,
   "metadata": {},
   "outputs": [],
   "source": [
    "db = \"sqlite:::data/sakila.db\"\n",
    "films = pl.read_database_uri(\"SELECT * FROM film\", db)\n",
    "film_categories = pl.read_database_uri(\"SELECT * FROM film_category\", db)\n",
    "categories = pl.read_database_uri(\"SELECT * FROM category\", db)\n",
    "\n",
    "(\n",
    "    films.join(film_categories, on=\"film_id\", suffix=\"_fc\")\n",
    "    .join(categories, on=\"category_id\", suffix=\"_c\")\n",
    "    .select(\n",
    "        \"film_id\",\n",
    "        \"title\",\n",
    "        pl.col(\"name\").alias(\"category\"),\n",
    "        \"rating\",\n",
    "        pl.col(\"length\") / 60,\n",
    "    )\n",
    "    .limit(10)\n",
    ")"
   ]
  },
  {
   "cell_type": "markdown",
   "metadata": {},
   "source": [
    "## Writing Data"
   ]
  },
  {
   "cell_type": "markdown",
   "metadata": {},
   "source": [
    "### CSV Format"
   ]
  },
  {
   "cell_type": "code",
   "execution_count": null,
   "metadata": {},
   "outputs": [],
   "source": [
    "all_stocks.write_csv(\"data/all_stocks.csv\")"
   ]
  },
  {
   "cell_type": "markdown",
   "metadata": {},
   "source": [
    "### Excel Format"
   ]
  },
  {
   "cell_type": "code",
   "execution_count": null,
   "metadata": {},
   "outputs": [],
   "source": [
    "all_stocks.write_excel(\"data/all_stocks.xlsx\")"
   ]
  },
  {
   "cell_type": "markdown",
   "metadata": {},
   "source": [
    "### Parquet Format"
   ]
  },
  {
   "cell_type": "code",
   "execution_count": null,
   "metadata": {},
   "outputs": [],
   "source": [
    "all_stocks.write_parquet(\"data/all_stocks.parquet\")"
   ]
  },
  {
   "cell_type": "markdown",
   "metadata": {},
   "source": [
    "### Other Considerations"
   ]
  },
  {
   "cell_type": "markdown",
   "metadata": {},
   "source": [
    "## Takeaways"
   ]
  }
 ],
 "metadata": {},
 "nbformat": 4,
 "nbformat_minor": 5
}
