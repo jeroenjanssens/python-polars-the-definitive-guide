{
 "cells": [
  {
   "cell_type": "markdown",
   "metadata": {},
   "source": [
    "# Chapter 1: Introducing Polars"
   ]
  },
  {
   "cell_type": "code",
   "execution_count": null,
   "metadata": {},
   "outputs": [],
   "source": [
    "import polars as pl\n",
    "pl.__version__  # The book is built with Polars version 1.20.0"
   ]
  },
  {
   "cell_type": "markdown",
   "metadata": {},
   "source": [
    "## What Is This Thing Called Polars?"
   ]
  },
  {
   "cell_type": "markdown",
   "metadata": {},
   "source": [
    "### Key Features"
   ]
  },
  {
   "cell_type": "markdown",
   "metadata": {},
   "source": [
    "### Key Concepts"
   ]
  },
  {
   "cell_type": "markdown",
   "metadata": {},
   "source": [
    "### Advantages"
   ]
  },
  {
   "cell_type": "markdown",
   "metadata": {},
   "source": [
    "## Why You Should Use Polars"
   ]
  },
  {
   "cell_type": "markdown",
   "metadata": {},
   "source": [
    "### Performance"
   ]
  },
  {
   "cell_type": "markdown",
   "metadata": {},
   "source": [
    "### Usability"
   ]
  },
  {
   "cell_type": "markdown",
   "metadata": {},
   "source": [
    "### Popularity"
   ]
  },
  {
   "cell_type": "markdown",
   "metadata": {},
   "source": [
    "### Sustainability"
   ]
  },
  {
   "cell_type": "markdown",
   "metadata": {},
   "source": [
    "## Polars Compared to Other Data Processing Packages"
   ]
  },
  {
   "cell_type": "markdown",
   "metadata": {},
   "source": [
    "## Why We Focus on Python Polars"
   ]
  },
  {
   "cell_type": "markdown",
   "metadata": {},
   "source": [
    "## How This Book Is Organized"
   ]
  },
  {
   "cell_type": "markdown",
   "metadata": {},
   "source": [
    "## An ETL Showcase"
   ]
  },
  {
   "cell_type": "markdown",
   "metadata": {},
   "source": [
    "### Extract"
   ]
  },
  {
   "cell_type": "markdown",
   "metadata": {},
   "source": [
    "#### Import packages"
   ]
  },
  {
   "cell_type": "code",
   "execution_count": null,
   "metadata": {},
   "outputs": [],
   "source": [
    "# The command below builds the polars_geo plugin used in this chapter\n",
    "! cd plugins/polars_geo && uv run maturin develop --release"
   ]
  },
  {
   "cell_type": "code",
   "execution_count": null,
   "metadata": {},
   "outputs": [],
   "source": [
    "# Reset the kernel to make the new plugin available\n",
    "\n",
    "# The code below will do this automatically when run in IPython\n",
    "get_ipython().kernel.do_shutdown(restart=True)"
   ]
  },
  {
   "cell_type": "code",
   "execution_count": null,
   "metadata": {},
   "outputs": [],
   "source": [
    "import polars as pl  \n",
    "import polars_geo\n",
    "from plotnine import *  "
   ]
  },
  {
   "cell_type": "markdown",
   "metadata": {},
   "source": [
    "#### Download and extract Citi Bike trips"
   ]
  },
  {
   "cell_type": "code",
   "execution_count": null,
   "metadata": {},
   "outputs": [],
   "source": [
    "# It might be needed to install `unzip` first if you're on Linux or macOS.\n",
    "# Linux:\n",
    "# sudo apt update && sudo apt install unzip\n",
    "# macOS:\n",
    "# brew install unzip\n",
    "# Windows:\n",
    "# Download the ZIP file manually and extract it (sorry)"
   ]
  },
  {
   "cell_type": "code",
   "execution_count": null,
   "metadata": {},
   "outputs": [],
   "source": [
    "! curl -sO https://s3.amazonaws.com/tripdata/202403-citibike-tripdata.zip\n",
    "! unzip -o 202403-citibike-tripdata.zip \"*.csv\" -x \"*/*\" -d data/citibike/\n",
    "! rm -f 202403-citibike-tripdata.zip"
   ]
  },
  {
   "cell_type": "markdown",
   "metadata": {},
   "source": [
    "#### Read Citi Bike trips into a Polars DataFrame"
   ]
  },
  {
   "cell_type": "code",
   "execution_count": null,
   "metadata": {},
   "outputs": [],
   "source": [
    "! wc -l data/citibike/202403-citibike-tripdata.csv\n",
    "! head -n 6 data/citibike/202403-citibike-tripdata.csv"
   ]
  },
  {
   "cell_type": "code",
   "execution_count": null,
   "metadata": {},
   "outputs": [],
   "source": [
    "trips = pl.read_csv(  \n",
    "    \"data/citibike/202403-citibike-tripdata.csv\",\n",
    "    try_parse_dates=True,\n",
    "    schema_overrides={\n",
    "        \"start_station_id\": pl.String,\n",
    "        \"end_station_id\": pl.String,\n",
    "    },\n",
    ").sort(  \n",
    "    \"started_at\"\n",
    ")\n",
    "\n",
    "trips.height"
   ]
  },
  {
   "cell_type": "code",
   "execution_count": null,
   "metadata": {},
   "outputs": [],
   "source": [
    "print(trips[:, :4])\n",
    "print(trips[:, 4:8])\n",
    "print(trips[:, 8:])"
   ]
  },
  {
   "cell_type": "markdown",
   "metadata": {},
   "source": [
    "#### Read in neighborhoods from GeoJSON"
   ]
  },
  {
   "cell_type": "code",
   "execution_count": null,
   "metadata": {},
   "outputs": [],
   "source": [
    "! python -m json.tool data/citibike/nyc-neighborhoods.geojson"
   ]
  },
  {
   "cell_type": "code",
   "execution_count": null,
   "metadata": {},
   "outputs": [],
   "source": [
    "neighborhoods = (\n",
    "    pl.read_json(\"data/citibike/nyc-neighborhoods.geojson\")\n",
    "    .select(\"features\")\n",
    "    .explode(\"features\")  \n",
    "    .unnest(\"features\")\n",
    "    .unnest(\"properties\")\n",
    "    .select(\"neighborhood\", \"borough\", \"geometry\")\n",
    "    .unnest(\"geometry\")\n",
    "    .with_columns(polygon=pl.col(\"coordinates\").list.first())\n",
    "    .select(\"neighborhood\", \"borough\", \"polygon\")\n",
    "    .filter(pl.col(\"borough\") != \"Staten Island\")  \n",
    "    .sort(\"neighborhood\")\n",
    ")\n",
    "\n",
    "neighborhoods"
   ]
  },
  {
   "cell_type": "markdown",
   "metadata": {},
   "source": [
    "### Bonus: Visualizing Neighborhoods and Stations"
   ]
  },
  {
   "cell_type": "code",
   "execution_count": null,
   "metadata": {},
   "outputs": [],
   "source": [
    "neighborhoods_coords = (\n",
    "    neighborhoods.with_row_index(\"id\")\n",
    "    .explode(\"polygon\")\n",
    "    .with_columns(\n",
    "        lon=pl.col(\"polygon\").list.first(),\n",
    "        lat=pl.col(\"polygon\").list.last(),\n",
    "    )\n",
    "    .drop(\"polygon\")\n",
    ")\n",
    "\n",
    "neighborhoods_coords"
   ]
  },
  {
   "cell_type": "code",
   "execution_count": null,
   "metadata": {},
   "outputs": [],
   "source": [
    "stations = (\n",
    "    trips.group_by(station=pl.col(\"start_station_name\"))\n",
    "    .agg(  \n",
    "        lon=pl.col(\"start_lng\").median(),\n",
    "        lat=pl.col(\"start_lat\").median(),\n",
    "    )\n",
    "    .sort(\"station\")\n",
    "    .drop_nulls()\n",
    ")\n",
    "stations"
   ]
  },
  {
   "cell_type": "code",
   "execution_count": null,
   "metadata": {},
   "outputs": [],
   "source": [
    "(\n",
    "    ggplot(neighborhoods_coords, aes(x=\"lon\", y=\"lat\", group=\"id\"))\n",
    "    + geom_polygon(aes(alpha=\"neighborhood\", fill=\"borough\"), color=\"white\")\n",
    "    + geom_point(stations, size=0.1)\n",
    "    + scale_x_continuous(expand=(0, 0))\n",
    "    + scale_y_continuous(expand=(0, 0, 0, 0.01))\n",
    "    + scale_alpha_ordinal(range=(0.3, 1))\n",
    "    + scale_fill_brewer(type=\"qual\", palette=2)\n",
    "    + guides(alpha=False)\n",
    "    + labs(\n",
    "        title=\"New York City neighborhoods and Citi Bike stations\",\n",
    "        subtitle=\"2,143 stations across 106 neighborhoods\",\n",
    "        caption=\"Source: https://citibikenyc.com/system-data\",\n",
    "        fill=\"Borough\",\n",
    "    )\n",
    "    + theme_void(base_size=14)\n",
    "    + theme(\n",
    "        dpi=300,\n",
    "        figure_size=(7, 9),\n",
    "        plot_background=element_rect(fill=\"white\", color=\"white\"),\n",
    "        plot_caption=element_text(style=\"italic\"),\n",
    "        plot_margin=0.01,\n",
    "        plot_title=element_text(ha=\"left\"),\n",
    "    )\n",
    ")"
   ]
  },
  {
   "cell_type": "markdown",
   "metadata": {},
   "source": [
    "### Transform"
   ]
  },
  {
   "cell_type": "markdown",
   "metadata": {},
   "source": [
    "#### Clean up columns"
   ]
  },
  {
   "cell_type": "code",
   "execution_count": null,
   "metadata": {},
   "outputs": [],
   "source": [
    "trips = trips.select(\n",
    "    bike_type=pl.col(\"rideable_type\")\n",
    "    .str.split(\"_\")\n",
    "    .list.get(0)\n",
    "    .cast(pl.Categorical),  \n",
    "    rider_type=pl.col(\"member_casual\").cast(pl.Categorical),\n",
    "    datetime_start=pl.col(\"started_at\"),\n",
    "    datetime_end=pl.col(\"ended_at\"),\n",
    "    station_start=pl.col(\"start_station_name\"),\n",
    "    station_end=pl.col(\"end_station_name\"),\n",
    "    lon_start=pl.col(\"start_lng\"),\n",
    "    lat_start=pl.col(\"start_lat\"),\n",
    "    lon_end=pl.col(\"end_lng\"),\n",
    "    lat_end=pl.col(\"end_lat\"),\n",
    ").with_columns(  \n",
    "    duration=(pl.col(\"datetime_end\") - pl.col(\"datetime_start\"))\n",
    ")\n",
    "\n",
    "trips.columns"
   ]
  },
  {
   "cell_type": "markdown",
   "metadata": {},
   "source": [
    "#### Clean up rows"
   ]
  },
  {
   "cell_type": "code",
   "execution_count": null,
   "metadata": {},
   "outputs": [],
   "source": [
    "trips = (\n",
    "    trips.drop_nulls()\n",
    "    .filter(  \n",
    "        (pl.col(\"datetime_start\") >= pl.date(2024, 3, 1))\n",
    "        & (pl.col(\"datetime_end\") < pl.date(2024, 4, 1))\n",
    "    )\n",
    "    .filter(\n",
    "        ~(\n",
    "            (pl.col(\"station_start\") == pl.col(\"station_end\"))\n",
    "            & (pl.col(\"duration\").dt.total_seconds() < 5 * 60)\n",
    "        )\n",
    "    )\n",
    ")\n",
    "\n",
    "trips.height"
   ]
  },
  {
   "cell_type": "markdown",
   "metadata": {},
   "source": [
    "#### Add trip distance"
   ]
  },
  {
   "cell_type": "code",
   "execution_count": null,
   "metadata": {},
   "outputs": [],
   "source": [
    "trips = trips.with_columns(\n",
    "    distance=pl.concat_list(\"lon_start\", \"lat_start\").geo.haversine_distance(\n",
    "        pl.concat_list(\"lon_end\", \"lat_end\")\n",
    "    )\n",
    "    / 1000  \n",
    ")\n",
    "\n",
    "trips.select(\n",
    "    \"lon_start\",\n",
    "    \"lon_end\",\n",
    "    \"lat_start\",\n",
    "    \"lat_end\",\n",
    "    \"distance\",\n",
    "    \"duration\",\n",
    ")"
   ]
  },
  {
   "cell_type": "markdown",
   "metadata": {},
   "source": [
    "#### Add borough and neighborhood"
   ]
  },
  {
   "cell_type": "code",
   "execution_count": null,
   "metadata": {},
   "outputs": [],
   "source": [
    "stations = (\n",
    "    stations.with_columns(point=pl.concat_list(\"lon\", \"lat\"))\n",
    "    .join(neighborhoods, how=\"cross\")\n",
    "    .with_columns(\n",
    "        in_neighborhood=pl.col(\"point\").geo.point_in_polygon(pl.col(\"polygon\"))\n",
    "    )\n",
    "    .filter(pl.col(\"in_neighborhood\"))\n",
    "    .unique(\"station\")\n",
    "    .select(\n",
    "        \"station\",\n",
    "        \"borough\",\n",
    "        \"neighborhood\",\n",
    "    )\n",
    ")\n",
    "\n",
    "stations"
   ]
  },
  {
   "cell_type": "code",
   "execution_count": null,
   "metadata": {},
   "outputs": [],
   "source": [
    "trips = (\n",
    "    trips.join(\n",
    "        stations.select(pl.all().name.suffix(\"_start\")), on=\"station_start\"\n",
    "    )\n",
    "    .join(stations.select(pl.all().name.suffix(\"_end\")), on=\"station_end\")\n",
    "    .select(\n",
    "        \"bike_type\",\n",
    "        \"rider_type\",\n",
    "        \"datetime_start\",\n",
    "        \"datetime_end\",\n",
    "        \"duration\",\n",
    "        \"station_start\",\n",
    "        \"station_end\",\n",
    "        \"neighborhood_start\",\n",
    "        \"neighborhood_end\",\n",
    "        \"borough_start\",\n",
    "        \"borough_end\",\n",
    "        \"lat_start\",\n",
    "        \"lon_start\",\n",
    "        \"lat_end\",\n",
    "        \"lon_end\",\n",
    "        \"distance\",\n",
    "    )\n",
    ")"
   ]
  },
  {
   "cell_type": "code",
   "execution_count": null,
   "metadata": {},
   "outputs": [],
   "source": [
    "print(trips[:, :4])\n",
    "print(trips[:, 4:7])\n",
    "print(trips[:, 7:11])\n",
    "print(trips[:, 11:])"
   ]
  },
  {
   "cell_type": "markdown",
   "metadata": {},
   "source": [
    "### Bonus: Visualizing Daily Trips per Borough"
   ]
  },
  {
   "cell_type": "code",
   "execution_count": null,
   "id": "0643b1d7",
   "metadata": {},
   "outputs": [],
   "source": [
    "trips_per_day = trips.group_by_dynamic(\n",
    "    \"datetime_start\", group_by=\"borough_start\", every=\"1d\"\n",
    ").agg(num_trips=pl.len())\n",
    "\n",
    "trips_per_day"
   ]
  },
  {
   "cell_type": "code",
   "execution_count": null,
   "id": "6cb1cc3c",
   "metadata": {},
   "outputs": [],
   "source": [
    "from mizani.labels import label_comma\n",
    "\n",
    "(\n",
    "    ggplot(\n",
    "        trips_per_day,\n",
    "        aes(x=\"datetime_start\", y=\"num_trips\", fill=\"borough_start\"),\n",
    "    )\n",
    "    + geom_area()\n",
    "    + scale_fill_brewer(type=\"qual\", palette=2)\n",
    "    + scale_x_datetime(date_labels=\"%-d\", date_breaks=\"1 day\", expand=(0, 0))\n",
    "    + scale_y_continuous(labels=label_comma(), expand=(0, 0))\n",
    "    + labs(\n",
    "        x=\"March 2024\",\n",
    "        fill=\"Borough\",\n",
    "        y=\"Trips per day\",\n",
    "        title=\"Citi Bike trips per day in March 2024\",\n",
    "        subtitle=\"On March 23, nearly 10 cm of rain fell in NYC\",\n",
    "    )\n",
    "    + theme_tufte(base_size=14)\n",
    "    + theme(\n",
    "        axis_ticks_major=element_line(color=\"white\"),\n",
    "        figure_size=(8, 5),\n",
    "        legend_position=\"top\",\n",
    "        plot_background=element_rect(fill=\"white\", color=\"white\"),\n",
    "        plot_caption=element_text(style=\"italic\"),\n",
    "        plot_title=element_text(ha=\"left\"),\n",
    "    )\n",
    ")"
   ]
  },
  {
   "cell_type": "markdown",
   "metadata": {},
   "source": [
    "### Load"
   ]
  },
  {
   "cell_type": "markdown",
   "metadata": {},
   "source": [
    "#### Write partitions"
   ]
  },
  {
   "cell_type": "code",
   "execution_count": null,
   "metadata": {},
   "outputs": [],
   "source": [
    "trips_parts = (\n",
    "    trips.sort(\"datetime_start\")\n",
    "    .with_columns(date=pl.col(\"datetime_start\").dt.date().cast(pl.String))\n",
    "    .partition_by([\"date\"], as_dict=True, include_key=False)\n",
    ")\n",
    "\n",
    "for key, df in trips_parts.items():\n",
    "    df.write_parquet(f\"data/citibike/trips-{key[0]}.parquet\")"
   ]
  },
  {
   "cell_type": "markdown",
   "metadata": {},
   "source": [
    "#### Verify"
   ]
  },
  {
   "cell_type": "code",
   "execution_count": null,
   "metadata": {},
   "outputs": [],
   "source": [
    "! ls -1 data/citibike/*.parquet"
   ]
  },
  {
   "cell_type": "code",
   "execution_count": null,
   "metadata": {},
   "outputs": [],
   "source": [
    "pl.read_parquet(\"data/citibike/*.parquet\").height"
   ]
  },
  {
   "cell_type": "markdown",
   "metadata": {},
   "source": [
    "### Bonus: Becoming Faster by Being Lazy"
   ]
  },
  {
   "cell_type": "code",
   "execution_count": null,
   "metadata": {},
   "outputs": [],
   "source": [
    "trips = (\n",
    "    pl.scan_csv(\n",
    "        \"data/citibike/202403-citibike-tripdata.csv\",  \n",
    "        try_parse_dates=True,\n",
    "        schema_overrides={\n",
    "            \"start_station_id\": pl.String,\n",
    "            \"end_station_id\": pl.String,\n",
    "        },\n",
    "    )\n",
    "    .select(\n",
    "        bike_type=pl.col(\"rideable_type\").str.split(\"_\").list.get(0),\n",
    "        rider_type=pl.col(\"member_casual\"),\n",
    "        datetime_start=pl.col(\"started_at\"),\n",
    "        datetime_end=pl.col(\"ended_at\"),\n",
    "        station_start=pl.col(\"start_station_name\"),\n",
    "        station_end=pl.col(\"end_station_name\"),\n",
    "        lon_start=pl.col(\"start_lng\"),\n",
    "        lat_start=pl.col(\"start_lat\"),\n",
    "        lon_end=pl.col(\"end_lng\"),\n",
    "        lat_end=pl.col(\"end_lat\"),\n",
    "    )\n",
    "    .with_columns(duration=(pl.col(\"datetime_end\") - pl.col(\"datetime_start\")))\n",
    "    .drop_nulls()\n",
    "    .filter(\n",
    "        ~(\n",
    "            (pl.col(\"station_start\") == pl.col(\"station_end\"))\n",
    "            & (pl.col(\"duration\").dt.total_seconds() < 5 * 60)\n",
    "        )\n",
    "    )\n",
    "    .with_columns(\n",
    "        distance=pl.concat_list(\n",
    "            \"lon_start\", \"lat_start\"\n",
    "        ).geo.haversine_distance(pl.concat_list(\"lon_end\", \"lat_end\"))\n",
    "        / 1000\n",
    "    )\n",
    ").collect()  \n",
    "\n",
    "neighborhoods = (\n",
    "    pl.read_json(\"data/citibike/nyc-neighborhoods.geojson\")\n",
    "    .lazy()  \n",
    "    .select(\"features\")\n",
    "    .explode(\"features\")\n",
    "    .unnest(\"features\")\n",
    "    .unnest(\"properties\")\n",
    "    .select(\"neighborhood\", \"borough\", \"geometry\")\n",
    "    .unnest(\"geometry\")\n",
    "    .with_columns(polygon=pl.col(\"coordinates\").list.first())\n",
    "    .select(\"neighborhood\", \"borough\", \"polygon\")\n",
    "    .sort(\"neighborhood\")\n",
    "    .filter(pl.col(\"borough\") != \"Staten Island\")\n",
    ")\n",
    "\n",
    "stations = (\n",
    "    trips.lazy()\n",
    "    .group_by(station=pl.col(\"station_start\"))\n",
    "    .agg(\n",
    "        lat=pl.col(\"lat_start\").median(),\n",
    "        lon=pl.col(\"lon_start\").median(),\n",
    "    )\n",
    "    .with_columns(point=pl.concat_list(\"lon\", \"lat\"))\n",
    "    .drop_nulls()\n",
    "    .join(neighborhoods, how=\"cross\")\n",
    "    .with_columns(\n",
    "        in_neighborhood=pl.col(\"point\").geo.point_in_polygon(pl.col(\"polygon\"))\n",
    "    )\n",
    "    .filter(pl.col(\"in_neighborhood\"))\n",
    "    .unique(\"station\")\n",
    "    .select(\n",
    "        pl.col(\"station\"),\n",
    "        pl.col(\"borough\"),\n",
    "        pl.col(\"neighborhood\"),\n",
    "    )\n",
    ").collect()\n",
    "\n",
    "trips = (\n",
    "    trips.join(\n",
    "        stations.select(pl.all().name.suffix(\"_start\")), on=\"station_start\"\n",
    "    )\n",
    "    .join(stations.select(pl.all().name.suffix(\"_end\")), on=\"station_end\")\n",
    "    .select(\n",
    "        \"bike_type\",\n",
    "        \"rider_type\",\n",
    "        \"datetime_start\",\n",
    "        \"datetime_end\",\n",
    "        \"duration\",\n",
    "        \"station_start\",\n",
    "        \"station_end\",\n",
    "        \"neighborhood_start\",\n",
    "        \"neighborhood_end\",\n",
    "        \"borough_start\",\n",
    "        \"borough_end\",\n",
    "        \"lat_start\",\n",
    "        \"lon_start\",\n",
    "        \"lat_end\",\n",
    "        \"lon_end\",\n",
    "        \"distance\",\n",
    "    )\n",
    ")\n",
    "\n",
    "trips.height"
   ]
  },
  {
   "cell_type": "markdown",
   "metadata": {},
   "source": [
    "## Takeaways"
   ]
  }
 ],
 "metadata": {},
 "nbformat": 4,
 "nbformat_minor": 5
}
